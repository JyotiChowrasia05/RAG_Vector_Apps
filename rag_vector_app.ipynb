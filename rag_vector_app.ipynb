{
  "nbformat": 4,
  "nbformat_minor": 0,
  "metadata": {
    "colab": {
      "private_outputs": true,
      "provenance": [],
      "authorship_tag": "ABX9TyMZS6tintnutSdrAp8z/AMX",
      "include_colab_link": true
    },
    "kernelspec": {
      "name": "python3",
      "display_name": "Python 3"
    },
    "language_info": {
      "name": "python"
    }
  },
  "cells": [
    {
      "cell_type": "markdown",
      "metadata": {
        "id": "view-in-github",
        "colab_type": "text"
      },
      "source": [
        "<a href=\"https://colab.research.google.com/github/JyotiChowrasia05/RAG_Vector_Apps/blob/main/rag_vector_app.ipynb\" target=\"_parent\"><img src=\"https://colab.research.google.com/assets/colab-badge.svg\" alt=\"Open In Colab\"/></a>"
      ]
    },
    {
      "cell_type": "code",
      "execution_count": null,
      "metadata": {
        "id": "s-Chzd8ZPbSq"
      },
      "outputs": [],
      "source": [
        "#!pip install python-dotenv\n",
        "!pip install langchain-groq langchain-core chromadb openai"
      ]
    },
    {
      "cell_type": "code",
      "source": [
        "import os\n",
        "import chromadb\n",
        "from chromadb.utils import  embedding_functions\n",
        "from openai import OpenAI"
      ],
      "metadata": {
        "id": "mulvLdT9PqRJ"
      },
      "execution_count": null,
      "outputs": []
    },
    {
      "cell_type": "code",
      "source": [],
      "metadata": {
        "id": "29XPrMS9Q4Ug"
      },
      "execution_count": null,
      "outputs": []
    },
    {
      "cell_type": "code",
      "source": [
        "openai_ef = embedding_functions.OpenAIEmbeddingFunction(api_key=openai_genai_key, model_name='text_embedding-3-small')"
      ],
      "metadata": {
        "id": "GmD2YVsiRBMm"
      },
      "execution_count": null,
      "outputs": []
    }
  ]
}